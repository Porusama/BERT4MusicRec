{
 "cells": [
  {
   "cell_type": "markdown",
   "id": "fbfeba82",
   "metadata": {},
   "source": [
    "# Демонстрация BERT4Rec в контексте музыкальных рекомендаций"
   ]
  },
  {
   "cell_type": "markdown",
   "id": "5928a010",
   "metadata": {},
   "source": [
    "Архитектура представленной модели основана на архитектуре BERT4Rec, назначение модели — продолжение последовательностей.\n",
    "Модель обладает кастонмным эмбеддинг модулем, учитывающим автора, альбом и содержание каждой композиции в последовательности, выраженное в наборе числовых характеристик (темп, громкость, тональность и т.п.).\n",
    "Данный блокнот демонстрирует процесс обучения и валидации модели на демонстрационном датасете и выполняет инференс модели на демострационной последовательности."
   ]
  },
  {
   "cell_type": "markdown",
   "id": "53bc6725",
   "metadata": {},
   "source": [
    "## Обучение модели"
   ]
  },
  {
   "cell_type": "code",
   "execution_count": null,
   "id": "d262e872",
   "metadata": {},
   "outputs": [],
   "source": [
    "from train import train_model\n",
    "from config import config, demo_sample_meta, CURRENT_DIR"
   ]
  },
  {
   "cell_type": "markdown",
   "id": "d1a67a8d",
   "metadata": {},
   "source": [
    "Функция train_model производит все необходимые действия для обучения модели с возможностью ее дальнейшей валидации. Использует словарь config с гиперпараметрами модели, конфигурацией процесса обучения.\n",
    "Функция создаст необходимые папки внутри рабочей дериктории и будет сохранять в нее логи и промежуточные состояния модели и оптимизатора.\n",
    "В рамках демонстрации будет использована конфигурация модели из словаря demo_sample_meta модуля config.\n",
    "В процесс обучения обработается 5 эпох. "
   ]
  },
  {
   "cell_type": "code",
   "execution_count": null,
   "id": "ed7caf0f",
   "metadata": {},
   "outputs": [],
   "source": [
    "demo_config = config.copy()\n",
    "\n",
    "# Заполнение демонстрационного конфига\n",
    "demo_config['playlists_amo']        = demo_sample_meta['playlists_amo']        \n",
    "demo_config['unique_songs']         = demo_sample_meta['unique_songs']         \n",
    "demo_config['unique_artists']       = demo_sample_meta['unique_artists']       \n",
    "demo_config['unique_albums']        = demo_sample_meta['unique_albums']        \n",
    "demo_config['numeric_features_amo'] = demo_sample_meta['numeric_features_amo'] \n",
    "demo_config['num_epochs']           = demo_sample_meta['num_epochs']\n",
    "\n",
    "demo_config['dataset_path']         = demo_sample_meta['demo_dataset_path']\n",
    "demo_config['demo_sequence_path']   = demo_sample_meta['demo_sequence_path']\n",
    "demo_config['demo_names_path']      = demo_sample_meta['demo_names_path']\n"
   ]
  },
  {
   "cell_type": "code",
   "execution_count": null,
   "id": "c9545f0d",
   "metadata": {},
   "outputs": [],
   "source": [
    "print('===< BERT4MusicRec >===')\n",
    "train_model(demo_config)"
   ]
  },
  {
   "cell_type": "markdown",
   "id": "6dfa3a88",
   "metadata": {},
   "source": [
    "## Валидация модели"
   ]
  },
  {
   "cell_type": "markdown",
   "id": "0a8fc171",
   "metadata": {},
   "source": [
    "На этом этапе происходит визуализация прогресса обучения с целью определения наилучшего состояния модели."
   ]
  },
  {
   "cell_type": "code",
   "execution_count": null,
   "id": "a0596cbd",
   "metadata": {},
   "outputs": [],
   "source": [
    "from tensorboard.backend.event_processing import event_accumulator\n",
    "import matplotlib.pyplot as plt\n",
    "import numpy as np\n",
    "from scipy.ndimage import gaussian_filter1d"
   ]
  },
  {
   "cell_type": "code",
   "execution_count": null,
   "id": "61ee16b4",
   "metadata": {},
   "outputs": [],
   "source": [
    "# Загружаем логи\n",
    "ea = event_accumulator.EventAccumulator(config['writer_dict'])\n",
    "ea.Reload()\n",
    "\n",
    "# Посмотреть, какие теги логировались\n",
    "print(ea.Tags())"
   ]
  },
  {
   "cell_type": "markdown",
   "id": "30167594",
   "metadata": {},
   "source": [
    "### Вывод графика ошибки"
   ]
  },
  {
   "cell_type": "code",
   "execution_count": null,
   "id": "d53cfabf",
   "metadata": {},
   "outputs": [],
   "source": [
    "# Получаем значения по тегу\n",
    "events = ea.Scalars('train_loss')\n",
    "steps = [e.step for e in events]\n",
    "values = [e.value for e in events]\n",
    "\n",
    "# Сглаживание значений с помощью гауссова фильтра\n",
    "smoothed_values = gaussian_filter1d(values, sigma=10)\n",
    "\n",
    "# Построение графика\n",
    "plt.figure(figsize=(10, 4))\n",
    "\n",
    "plt.plot(steps, values, label='Loss (raw)', linewidth=1, alpha=0.4, color='blue')\n",
    "\n",
    "plt.plot(steps, smoothed_values, label='Loss (smoothed)', linewidth=2, color='red')\n",
    "\n",
    "plt.xlabel('Батч')\n",
    "plt.ylabel('Ошибка')\n",
    "plt.legend()\n",
    "plt.grid(True)\n",
    "plt.tight_layout()\n",
    "plt.show()"
   ]
  },
  {
   "cell_type": "markdown",
   "id": "ef0917e1",
   "metadata": {},
   "source": [
    "### Вывод динамики валидационных метрик"
   ]
  },
  {
   "cell_type": "code",
   "execution_count": null,
   "id": "63baa8c0",
   "metadata": {},
   "outputs": [],
   "source": [
    "metrics = ea.Tags()['scalars']\n",
    "metrics.remove('train_loss')\n",
    "\n",
    "data = {}\n",
    "\n",
    "for metric in metrics:\n",
    "    # Получаем все события для данной метрики\n",
    "    events = ea.Scalars(metric)\n",
    "    steps = [e.step for e in events]\n",
    "    values = [e.value / 16 for e in events]\n",
    "    data[metric] = (steps, values)\n",
    "\n",
    "# Построение графика\n",
    "plt.figure(figsize=(9, 4))\n",
    "\n",
    "for metric, (steps, values) in data.items():\n",
    "    plt.plot(steps, values, label=metric, linewidth=1.5)\n",
    "\n",
    "all_steps = np.arange(min(steps), max(steps)+1)\n",
    "plt.gca().set_xticks(all_steps)\n",
    "\n",
    "plt.grid(True, which='both', linestyle='--', linewidth=0.5, alpha=1)\n",
    "\n",
    "plt.xlabel(\"Эпоха\")\n",
    "plt.ylabel(\"Значение метрики\")\n",
    "plt.legend()\n",
    "plt.grid(True)\n",
    "plt.show()"
   ]
  },
  {
   "cell_type": "markdown",
   "id": "e130f8e8",
   "metadata": {},
   "source": [
    "## Генерация рекомендаций"
   ]
  },
  {
   "cell_type": "markdown",
   "id": "cf97ed9f",
   "metadata": {},
   "source": [
    "На этом этапе будет произведен инференс модели на демонстрационной последовательности. Так как определение лучшего состояния демонстрационной модели задача бессмысленная, загрузим в память модель полученную в конце пятой эпохи."
   ]
  },
  {
   "cell_type": "code",
   "execution_count": null,
   "id": "0469b32b",
   "metadata": {},
   "outputs": [],
   "source": [
    "from flask_app import load_model, generate_recommendations, form_inference_sequence\n",
    "import torch\n",
    "import pandas as pd"
   ]
  },
  {
   "cell_type": "code",
   "execution_count": null,
   "id": "8d949a7b",
   "metadata": {},
   "outputs": [],
   "source": [
    "# Загрузка модели в память\n",
    "device = torch.device('cuda' if torch.cuda.is_available() else 'cpu')\n",
    "model = load_model(demo_config, device, 5)\n",
    "\n",
    "# Загрузка демонстрацинной последовательности\n",
    "seq = pd.read_csv(demo_config['demo_sequence_path'])"
   ]
  },
  {
   "cell_type": "code",
   "execution_count": null,
   "id": "cf770a65",
   "metadata": {},
   "outputs": [],
   "source": [
    "# Генерация рекомендаций\n",
    "recommendations = generate_recommendations(model, form_inference_sequence(seq, device))\n",
    "recommendations"
   ]
  },
  {
   "cell_type": "markdown",
   "id": "1bcf4de6",
   "metadata": {},
   "source": [
    "### Визуализация рекомендаций"
   ]
  },
  {
   "cell_type": "code",
   "execution_count": null,
   "id": "fbb68fd5",
   "metadata": {},
   "outputs": [],
   "source": [
    "# Объединение демонтрационной последовательности и массива рекомендаций\n",
    "final_playlist = pd.concat([\n",
    "    seq[['song_id']],\n",
    "    pd.DataFrame([0], columns=['song_id']),\n",
    "    pd.DataFrame(recommendations, columns=['song_id'])\n",
    "])"
   ]
  },
  {
   "cell_type": "code",
   "execution_count": null,
   "id": "d9cf546c",
   "metadata": {},
   "outputs": [],
   "source": [
    "# Названия композиций, исполнителей и альбомов\n",
    "names   = pd.read_csv(demo_config['demo_names_path'])\n",
    "\n",
    "# Добавление названий \n",
    "pd.merge(final_playlist, names, how='left', on='song_id')"
   ]
  }
 ],
 "metadata": {
  "kernelspec": {
   "display_name": "Python 3",
   "language": "python",
   "name": "python3"
  },
  "language_info": {
   "codemirror_mode": {
    "name": "ipython",
    "version": 3
   },
   "file_extension": ".py",
   "mimetype": "text/x-python",
   "name": "python",
   "nbconvert_exporter": "python",
   "pygments_lexer": "ipython3",
   "version": "3.13.1"
  }
 },
 "nbformat": 4,
 "nbformat_minor": 5
}
